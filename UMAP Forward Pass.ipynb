{
 "cells": [
  {
   "cell_type": "markdown",
   "metadata": {},
   "source": [
    "- load logs\n",
    "- load model\n",
    "- data selection\n",
    "- normalisation\n",
    "- experimentation"
   ]
  },
  {
   "cell_type": "code",
   "execution_count": 1,
   "metadata": {},
   "outputs": [],
   "source": [
    "from welly import Project\n",
    "import pandas as pd\n",
    "import numpy as np\n",
    "import matplotlib.pyplot as plt"
   ]
  },
  {
   "cell_type": "markdown",
   "metadata": {},
   "source": [
    "### Load Data"
   ]
  },
  {
   "cell_type": "code",
   "execution_count": 2,
   "metadata": {},
   "outputs": [],
   "source": [
    "data_df = pd.read_csv(\"./LASDF_ss.csv\").drop(['UWI'], axis=1)\n",
    "# data_df = pd.read_csv(\"./big_df.csv\")"
   ]
  },
  {
   "cell_type": "code",
   "execution_count": 3,
   "metadata": {},
   "outputs": [],
   "source": [
    "data_df['W'] = data_df['W'].apply(lambda n: n[:-4])\n",
    "data_df['LITHOLOGY_GEOLINK'] = data_df.apply(lambda row: row['LITHOLOGY_GEOLINK'] if not np.isnan(row['LITHOLOGY_GEOLINK']) else -1, axis=1)"
   ]
  },
  {
   "cell_type": "code",
   "execution_count": 4,
   "metadata": {},
   "outputs": [],
   "source": [
    "valid_df = data_df.loc[~data_df.isna().any(axis=1)]"
   ]
  },
  {
   "cell_type": "markdown",
   "metadata": {},
   "source": [
    "#### Features"
   ]
  },
  {
   "cell_type": "code",
   "execution_count": 5,
   "metadata": {},
   "outputs": [
    {
     "name": "stdout",
     "output_type": "stream",
     "text": [
      "['15_9-12' '15_9-13' '15_9-14' '15_9-15' '15_9-17' '15_9-18' '15_9-2'\n",
      " '15_9-4' '15_9-7' '15_9-8' '15_9-9' '16_1-2' '16_4-1' '16_7-2' '16_7-3'\n",
      " '16_7-4' '16_7-5' '16_7-6' '16_8-1' '17_11-1' '17_4-1' '25_10-4 R'\n",
      " '25_11-15' '25_11-23' '25_2-13 T4' '25_2-14' '25_2-5' '25_2-7' '25_3-1'\n",
      " '25_4-1' '25_5-1' '25_5-3' '25_5-4' '25_6-1' '25_6-2' '25_7-2' '25_8-5 S'\n",
      " '25_8-7' '26_4-1' '29_6-1' '30_11-3' '30_2-1' '30_3-2 R' '30_3-3'\n",
      " '30_3-4 R' '30_4-1' '30_4-2' '30_6-11' '30_6-14' '30_6-22' '30_6-23'\n",
      " '30_6-5' '30_6-8' '30_7-7' '31_2-1' '31_2-10' '31_2-19 S' '31_2-2 R'\n",
      " '31_2-3' '31_2-7' '31_2-8' '31_2-9' '31_3-1' '31_3-2' '31_3-3' '31_4-10'\n",
      " '31_4-2' '31_4-3' '31_4-4' '31_4-5' '31_4-6' '31_4-8' '31_5-2 R' '31_5-3'\n",
      " '31_5-4 S' '31_6-1' '31_6-5' '31_6-8' '33_5-2' '33_6-1' '33_9-1'\n",
      " '33_9-11' '33_9-17' '33_9-6' '34_10-12' '34_10-16 R' '34_10-17'\n",
      " '34_10-19' '34_10-21' '34_10-23' '34_10-33' '34_10-35' '34_10-5'\n",
      " '34_10-7' '34_11-2 S' '34_2-2 R' '34_2-4' '34_4-2' '34_4-3' '34_7-12'\n",
      " '34_7-13' '34_7-20' '34_7-21' '34_7-5' '34_8-1' '34_8-3' '34_8-7'\n",
      " '35_11-1' '35_11-10' '35_11-2' '35_11-5' '35_11-6' '35_11-7' '35_12-1'\n",
      " '35_3-2' '35_3-5' '35_8-1' '35_9-2' '36_7-1' '6_3-2' '7_1-1' '7_3-1']\n"
     ]
    }
   ],
   "source": [
    "well_names = valid_df['W'].unique()\n",
    "print(well_names)"
   ]
  },
  {
   "cell_type": "code",
   "execution_count": 6,
   "metadata": {},
   "outputs": [
    {
     "name": "stdout",
     "output_type": "stream",
     "text": [
      "114 prob vertical\n"
     ]
    }
   ],
   "source": [
    "st_wells = ['25_2-13 T4', '25_8-5 S', '31_2-2 R', '31_5-2 R', '31_5-4 S', '34_10-16 R', '34_2-2 R', '34_11-2 S']\n",
    "v_well_names = [n for n in well_names if n not in st_wells]\n",
    "print(len(v_well_names), \"prob vertical\")"
   ]
  },
  {
   "cell_type": "code",
   "execution_count": 7,
   "metadata": {},
   "outputs": [],
   "source": [
    "import random\n",
    "well_names_to_use = random.sample(v_well_names, 10)"
   ]
  },
  {
   "cell_type": "code",
   "execution_count": 8,
   "metadata": {},
   "outputs": [],
   "source": [
    "valid_df = valid_df[valid_df['W'].isin(well_names_to_use)]"
   ]
  },
  {
   "cell_type": "code",
   "execution_count": 9,
   "metadata": {},
   "outputs": [],
   "source": [
    "meta_df = valid_df[['W','LITHOLOGY_GEOLINK']].copy()\n",
    "valid_df= valid_df.drop(['W','Unnamed: 0','LITHOLOGY_GEOLINK'], axis=1)"
   ]
  },
  {
   "cell_type": "code",
   "execution_count": 10,
   "metadata": {},
   "outputs": [
    {
     "data": {
      "text/plain": [
       "array(['W', 'LITHOLOGY_GEOLINK', 'CALI', 'DRHO', 'NPHI', 'RHOB', 'GR',\n",
       "       'DTC', 'RDEP', 'SP', 'RSHA', 'RMED', 'MD'], dtype=object)"
      ]
     },
     "execution_count": 10,
     "metadata": {},
     "output_type": "execute_result"
    }
   ],
   "source": [
    "dfs = [meta_df, valid_df]\n",
    "feature_df = pd.concat(dfs, axis='columns')\n",
    "feature_df.columns.values"
   ]
  },
  {
   "cell_type": "code",
   "execution_count": 11,
   "metadata": {},
   "outputs": [],
   "source": [
    "feature_df = valid_df.dropna()"
   ]
  },
  {
   "cell_type": "code",
   "execution_count": 12,
   "metadata": {},
   "outputs": [
    {
     "name": "stdout",
     "output_type": "stream",
     "text": [
      "92357 11\n"
     ]
    }
   ],
   "source": [
    "X = feature_df.values.tolist()\n",
    "print(len(X), len(X[0]))"
   ]
  },
  {
   "cell_type": "markdown",
   "metadata": {},
   "source": [
    "### Load Model"
   ]
  },
  {
   "cell_type": "code",
   "execution_count": 13,
   "metadata": {},
   "outputs": [
    {
     "ename": "TypeError",
     "evalue": "load() takes at most 1 positional arguments (2 given)",
     "output_type": "error",
     "traceback": [
      "\u001b[0;31m---------------------------------------------------------------------------\u001b[0m",
      "\u001b[0;31mTypeError\u001b[0m                                 Traceback (most recent call last)",
      "\u001b[0;32m<ipython-input-13-07c0169c9973>\u001b[0m in \u001b[0;36m<module>\u001b[0;34m\u001b[0m\n\u001b[1;32m      3\u001b[0m \u001b[0mMODEL_FILE\u001b[0m \u001b[0;34m=\u001b[0m \u001b[0;34m'model_nn8_mdist0.99_nc2_troll.pickle'\u001b[0m\u001b[0;34m\u001b[0m\u001b[0;34m\u001b[0m\u001b[0m\n\u001b[1;32m      4\u001b[0m \u001b[0;34m\u001b[0m\u001b[0m\n\u001b[0;32m----> 5\u001b[0;31m \u001b[0mreducer\u001b[0m \u001b[0;34m=\u001b[0m \u001b[0mpickle\u001b[0m\u001b[0;34m.\u001b[0m\u001b[0mload\u001b[0m\u001b[0;34m(\u001b[0m\u001b[0mMODEL_FILE\u001b[0m\u001b[0;34m,\u001b[0m \u001b[0mopen\u001b[0m\u001b[0;34m(\u001b[0m\u001b[0mMODEL_FILE\u001b[0m\u001b[0;34m,\u001b[0m \u001b[0;34m'rb'\u001b[0m\u001b[0;34m)\u001b[0m\u001b[0;34m)\u001b[0m\u001b[0;34m\u001b[0m\u001b[0;34m\u001b[0m\u001b[0m\n\u001b[0m",
      "\u001b[0;31mTypeError\u001b[0m: load() takes at most 1 positional arguments (2 given)"
     ]
    }
   ],
   "source": [
    "import cloudpickle as pickle\n",
    "\n",
    "MODEL_FILE = 'model_nn8_mdist0.99_nc2_troll.pickle'\n",
    "\n",
    "reducer = pickle.load(MODEL_FILE, open(MODEL_FILE, 'rb'))"
   ]
  },
  {
   "cell_type": "code",
   "execution_count": null,
   "metadata": {
    "scrolled": false
   },
   "outputs": [],
   "source": [
    "y = reducer['reducer'].transform(X)"
   ]
  },
  {
   "cell_type": "markdown",
   "metadata": {},
   "source": [
    "### Plot"
   ]
  },
  {
   "cell_type": "code",
   "execution_count": null,
   "metadata": {},
   "outputs": [],
   "source": [
    "import matplotlib.pyplot as plt"
   ]
  },
  {
   "cell_type": "code",
   "execution_count": null,
   "metadata": {},
   "outputs": [],
   "source": [
    "NUM_LITH = 37"
   ]
  },
  {
   "cell_type": "code",
   "execution_count": null,
   "metadata": {
    "scrolled": false
   },
   "outputs": [],
   "source": [
    "import matplotlib as mpl\n",
    "cmap = mpl.cm.get_cmap('viridis', NUM_LITH)\n",
    "plt.figure(figsize=(12,12))\n",
    "plt.scatter(embedding[:,0], embedding[:,1], c=feature_df['GR'], cmap=cmap, vmax=150)\n",
    "plt.colorbar()"
   ]
  },
  {
   "cell_type": "code",
   "execution_count": null,
   "metadata": {},
   "outputs": [],
   "source": []
  },
  {
   "cell_type": "code",
   "execution_count": null,
   "metadata": {},
   "outputs": [],
   "source": []
  }
 ],
 "metadata": {
  "kernelspec": {
   "display_name": "Python 3",
   "language": "python",
   "name": "python3"
  },
  "language_info": {
   "codemirror_mode": {
    "name": "ipython",
    "version": 3
   },
   "file_extension": ".py",
   "mimetype": "text/x-python",
   "name": "python",
   "nbconvert_exporter": "python",
   "pygments_lexer": "ipython3",
   "version": "3.7.3"
  }
 },
 "nbformat": 4,
 "nbformat_minor": 2
}
